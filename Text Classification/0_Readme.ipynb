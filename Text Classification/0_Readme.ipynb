{
 "cells": [
  {
   "cell_type": "markdown",
   "metadata": {},
   "source": [
    "# Readme"
   ]
  },
  {
   "cell_type": "markdown",
   "metadata": {},
   "source": [
    "Berikut ini adalah hands-on text classification, mulai dari mempersiapkan data sampai training classifier.\n",
    "\n",
    "File yang digunakan yaitu Data/bbc, yang berisi berita dalam 5 kategori yang sekaligus merupakan label pada task kali ini:\n",
    "\n",
    "- business\n",
    "- entertainment\n",
    "- politics\n",
    "- sport\n",
    "- tech\n",
    "\n",
    "Langkah-langkah yang harus dilakukan yaitu, pahami dan jalankan kode secara bertahap :\n",
    "1. Dataset Creation\n",
    "2. Data Analysis\n",
    "3. Feature Engineering\n",
    "4. Training Classifier\n",
    "\n",
    "Perhatikan dan pahami output yang dikeluarkan. Lalu coba ganti-ganti parameter untuk melihat perubahan yang ditimbulkan.\n",
    "\n",
    "Terakhir, jawab pertanyaan pada section Latihan pada file 4. Training Classifier.\n",
    "\n",
    "Kumpulkan ke classroom pada Rabu, \n",
    "\n",
    "\n",
    "\n",
    "\n",
    "Referensi : \n",
    "1. http://mlg.ucd.ie/datasets/bbc.html\n",
    "2. https://github.com/miguelfzafra/Latest-News-Classifier"
   ]
  }
 ],
 "metadata": {
  "kernelspec": {
   "display_name": "Python 3",
   "language": "python",
   "name": "python3"
  },
  "language_info": {
   "codemirror_mode": {
    "name": "ipython",
    "version": 3
   },
   "file_extension": ".py",
   "mimetype": "text/x-python",
   "name": "python",
   "nbconvert_exporter": "python",
   "pygments_lexer": "ipython3",
   "version": "3.6.8"
  }
 },
 "nbformat": 4,
 "nbformat_minor": 2
}
